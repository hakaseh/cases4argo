{
 "cells": [
  {
   "cell_type": "markdown",
   "id": "6c51a3a5-5f6b-4ca2-a3c6-c84bfbd971c6",
   "metadata": {},
   "source": [
    "# Generate `prof` files from the analysis-ready BGC-Argo dataset"
   ]
  },
  {
   "cell_type": "code",
   "execution_count": 3,
   "id": "4b16e5ad-7320-4e4c-a410-911c6920cd20",
   "metadata": {},
   "outputs": [],
   "source": [
    "dir_in = '~/analysis-ready-bgc-argo-dataset/'\n",
    "file_in = 'AR6901474.nc'\n",
    "vars_in = ['TEMP_AR','PSAL_AR']\n",
    "vars_out = ['temp','salt']\n",
    "dep_out = 250"
   ]
  },
  {
   "cell_type": "code",
   "execution_count": 4,
   "id": "a29fa83c-5204-4ca6-bb40-4ee0eb6002e4",
   "metadata": {},
   "outputs": [],
   "source": [
    "import pandas as pd\n",
    "import xarray as xr\n",
    "import numpy as np\n",
    "\n",
    "\n",
    "\n",
    "# read data and limit to the specified depth\n",
    "ds = xr.open_dataset(dir_in+file_in).sel(depth=slice(None,dep_out))\n",
    "\n",
    "for i in range(len(vars_in)): # loop over variables\n",
    "    lines = [] # initialize for each variable\n",
    "    for j in range(ds.sizes['time']): # loop over time\n",
    "        valid = ~np.isnan(ds[vars_in[i]][j,:].values) # array of boolean for valid samples\n",
    "        if np.sum(valid) > 0: # if a profile contains real value(s)\n",
    "            # add date/time for every profile entry\n",
    "            lines.append(str(pd.to_datetime(ds['time'][j].values).strftime('%Y-%m-%d %H:%M:%S')) + ' ' + str(np.sum(valid)) + ' 2')\n",
    "            for k in range(ds.sizes['depth']): # loop over depths\n",
    "                if ~np.isnan(ds[vars_in[i]][j,k].values): # if the value is real (skip if NaN)\n",
    "                    lines.append('-' + str(ds['depth'][k].values) + ' ' + str(ds[vars_in[i]][j,k].values)) # depth in negative and the data value\n",
    "    with open(vars_out[i]+'_prof_'+file_in[:-3]+'.dat', 'w') as file:\n",
    "        for line in lines:\n",
    "            file.write(line + '\\n')"
   ]
  },
  {
   "cell_type": "code",
   "execution_count": null,
   "id": "3c024f2b-bd11-4a79-bea0-b87870c13d1f",
   "metadata": {},
   "outputs": [],
   "source": []
  }
 ],
 "metadata": {
  "kernelspec": {
   "display_name": "Python 3 (ipykernel)",
   "language": "python",
   "name": "python3"
  },
  "language_info": {
   "codemirror_mode": {
    "name": "ipython",
    "version": 3
   },
   "file_extension": ".py",
   "mimetype": "text/x-python",
   "name": "python",
   "nbconvert_exporter": "python",
   "pygments_lexer": "ipython3",
   "version": "3.13.2"
  }
 },
 "nbformat": 4,
 "nbformat_minor": 5
}
